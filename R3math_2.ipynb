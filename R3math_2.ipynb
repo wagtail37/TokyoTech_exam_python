{
  "nbformat": 4,
  "nbformat_minor": 0,
  "metadata": {
    "colab": {
      "provenance": []
    },
    "kernelspec": {
      "name": "python3",
      "display_name": "Python 3"
    },
    "language_info": {
      "name": "python"
    }
  },
  "cells": [
    {
      "cell_type": "markdown",
      "source": [
        "(1)行列A=[[2,1][1,2]]の固有値と固有ベクトルを求めよ。ただし,因有ベクトルは正規化せよ。\n"
      ],
      "metadata": {
        "id": "9mEw4UXcAJZ4"
      }
    },
    {
      "cell_type": "code",
      "execution_count": null,
      "metadata": {
        "colab": {
          "base_uri": "https://localhost:8080/"
        },
        "id": "nRghQVkyAEol",
        "outputId": "eb498a10-d9fa-45f5-ee3b-6ffac0a2ad8e"
      },
      "outputs": [
        {
          "output_type": "stream",
          "name": "stdout",
          "text": [
            "[3. 1.]\n",
            "[[ 0.70710678 -0.70710678]\n",
            " [ 0.70710678  0.70710678]]\n"
          ]
        }
      ],
      "source": [
        "import numpy as np\n",
        "\n",
        "# 行列Aを定義\n",
        "A = np.array([[2, 1], [1, 2]])\n",
        "\n",
        "# 固有値と固有ベクトルを計算\n",
        "eigenvalues, eigenvectors = np.linalg.eig(A)\n",
        "\n",
        "# 固有ベクトルを正規化\n",
        "normalized_eigenvectors = eigenvectors / np.linalg.norm(eigenvectors, axis=0)\n",
        "\n",
        "print(eigenvalues)\n",
        "print(normalized_eigenvectors)\n",
        "\n",
        "#出力結果\n",
        "[3. 1.]\n",
        "[[ 0.70710678 -0.70710678]\n",
        " [ 0.70710678  0.70710678]]"
      ]
    },
    {
      "cell_type": "markdown",
      "source": [
        "(2) A^2を求めよ。ただし,nは自然数とする。"
      ],
      "metadata": {
        "id": "qWofCoo-BAsB"
      }
    },
    {
      "cell_type": "code",
      "source": [
        "import numpy as np\n",
        "from sympy import symbols, Matrix\n",
        "\n",
        "# 自然数nを定義\n",
        "n = symbols('n', integer=True, positive=True)\n",
        "\n",
        "# 行列Aを定義\n",
        "A = np.array([[2, 1], [1, 2]])\n",
        "\n",
        "# Aの固有値と固有ベクトルを計算\n",
        "eigenvalues, eigenvectors = np.linalg.eig(A)\n",
        "\n",
        "# 固有ベクトルを正規化\n",
        "eigenvectors = eigenvectors / np.linalg.norm(eigenvectors, axis=0)\n",
        "\n",
        "# 行列Pを構成\n",
        "P = Matrix(eigenvectors)\n",
        "\n",
        "# 対角行列Dを構成\n",
        "D = Matrix(np.diag(eigenvalues))\n",
        "\n",
        "# Pの逆行列を計算\n",
        "P_inv = P.inv()\n",
        "\n",
        "# A^nを計算\n",
        "A_n = P * D**n * P_inv\n",
        "A_n\n"
      ],
      "metadata": {
        "colab": {
          "base_uri": "https://localhost:8080/",
          "height": 58
        },
        "id": "zTDylwVTB_ui",
        "outputId": "71457266-e0b0-4ba9-b662-63503b8f5057"
      },
      "execution_count": null,
      "outputs": [
        {
          "output_type": "execute_result",
          "data": {
            "text/plain": [
              "Matrix([\n",
              "[ 0.5*1.0**n + 0.5*3.0**n, -0.5*1.0**n + 0.5*3.0**n],\n",
              "[-0.5*1.0**n + 0.5*3.0**n,  0.5*1.0**n + 0.5*3.0**n]])"
            ],
            "text/latex": "$\\displaystyle \\left[\\begin{matrix}0.5 \\cdot 1.0^{n} + 0.5 \\cdot 3.0^{n} & - 0.5 \\cdot 1.0^{n} + 0.5 \\cdot 3.0^{n}\\\\- 0.5 \\cdot 1.0^{n} + 0.5 \\cdot 3.0^{n} & 0.5 \\cdot 1.0^{n} + 0.5 \\cdot 3.0^{n}\\end{matrix}\\right]$"
          },
          "metadata": {},
          "execution_count": 8
        }
      ]
    }
  ]
}