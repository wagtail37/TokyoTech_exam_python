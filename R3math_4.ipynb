{
  "nbformat": 4,
  "nbformat_minor": 0,
  "metadata": {
    "colab": {
      "provenance": []
    },
    "kernelspec": {
      "name": "python3",
      "display_name": "Python 3"
    },
    "language_info": {
      "name": "python"
    }
  },
  "cells": [
    {
      "cell_type": "markdown",
      "source": [
        "以下に示す周期T=2の周期関数p(x)を考える。\n",
        "\n",
        "0(-1<x<=-0.5)\n",
        "\n",
        "1(-0.5<x<=0.5)\n",
        "\n",
        "0(0.5<x<=l)\n",
        "\n",
        "\n",
        "この関数p(x)の3次までの複素フーリエ係数を求めよ。"
      ],
      "metadata": {
        "id": "vTqPIg9KXGGG"
      }
    },
    {
      "cell_type": "code",
      "source": [
        "from sympy import symbols, integrate, exp, pi, I\n",
        "\n",
        "x = symbols('x')\n",
        "n = symbols('n', integer=True)\n",
        "\n",
        "# p(x)(-0.5<=x<=0.5)を定義\n",
        "p = 1\n",
        "\n",
        "# 周期Tを定義\n",
        "T = 2\n",
        "\n",
        "# 複素フーリエ係数c_nを計算,p(x)の定義より積分範囲は(-0.5, 0.5)\n",
        "c_n = (1/T) * integrate(p * exp(-I * 2*pi*n*x/T), (x, -0.5, 0.5))\n",
        "\n",
        "# n = 0, 1, 2, 3の場合のc_nを計算\n",
        "c_n_values = [c_n.subs(n, i) for i in range(4)]\n",
        "\n",
        "# c_nの式を展開して簡単化\n",
        "c_n_simplified = [c.expand(complex=True).simplify() for c in c_n_values]\n",
        "c_n_simplified"
      ],
      "metadata": {
        "colab": {
          "base_uri": "https://localhost:8080/"
        },
        "id": "Ax4nstmJXE_E",
        "outputId": "0e1472c7-359f-458f-a680-d9db6cfa2eda"
      },
      "execution_count": 2,
      "outputs": [
        {
          "output_type": "execute_result",
          "data": {
            "text/plain": [
              "[0.500000000000000, 1.0/pi, 0, -0.333333333333333/pi]"
            ]
          },
          "metadata": {},
          "execution_count": 2
        }
      ]
    },
    {
      "cell_type": "code",
      "source": [
        "c_n_values"
      ],
      "metadata": {
        "colab": {
          "base_uri": "https://localhost:8080/"
        },
        "id": "UCqFwbTUaoXb",
        "outputId": "2d0fe1bf-02bc-4503-f737-53580f113942"
      },
      "execution_count": null,
      "outputs": [
        {
          "output_type": "execute_result",
          "data": {
            "text/plain": [
              "[0.500000000000000,\n",
              " -0.5*I*exp(0.5*I*pi)/pi + 0.5*I*exp(-0.5*I*pi)/pi,\n",
              " 0.25*I*exp(-1.0*I*pi)/pi - 0.25*I*exp(1.0*I*pi)/pi,\n",
              " -0.166666666666667*I*exp(1.5*I*pi)/pi + 0.166666666666667*I*exp(-1.5*I*pi)/pi]"
            ]
          },
          "metadata": {},
          "execution_count": 2
        }
      ]
    },
    {
      "cell_type": "markdown",
      "source": [
        "(2)"
      ],
      "metadata": {
        "id": "FihJaxtjgtBa"
      }
    },
    {
      "cell_type": "code",
      "source": [
        "def C(n):#C_-3からC_3まで定義\n",
        "    c_n_numerical = [0.5, 1/pi, 0, -1/(3*pi)]\n",
        "    return c_n_numerical[abs(n) % 4]**2"
      ],
      "metadata": {
        "id": "pLn4NfnIbfgV"
      },
      "execution_count": 1,
      "outputs": []
    },
    {
      "cell_type": "code",
      "source": [
        "print(f(0))\n",
        "print(f(1))\n",
        "print(f(-1))\n",
        "print(f(2))\n",
        "print(f(-2))\n",
        "print(f(3))\n",
        "print(f(-3))"
      ],
      "metadata": {
        "colab": {
          "base_uri": "https://localhost:8080/"
        },
        "id": "hzXWC0uxdAhf",
        "outputId": "d03e206d-75c3-4eab-dcad-d069933af56a"
      },
      "execution_count": null,
      "outputs": [
        {
          "output_type": "stream",
          "name": "stdout",
          "text": [
            "0.25\n",
            "pi**(-2)\n",
            "pi**(-2)\n",
            "0\n",
            "0\n",
            "1/(9*pi**2)\n",
            "1/(9*pi**2)\n"
          ]
        }
      ]
    },
    {
      "cell_type": "code",
      "source": [
        "def sigma(func, frm, to):#Σを定義\n",
        "    result = 0;\n",
        "    for i in range(frm, to+1):\n",
        "        result += func(i)\n",
        "    return result\n",
        "\n",
        "ans=2*sigma(C, -3, 3)\n",
        "ans"
      ],
      "metadata": {
        "colab": {
          "base_uri": "https://localhost:8080/",
          "height": 51
        },
        "id": "NyfE4RYdXBsM",
        "outputId": "39c12663-14ad-43ca-d455-2821616a6287"
      },
      "execution_count": 3,
      "outputs": [
        {
          "output_type": "execute_result",
          "data": {
            "text/plain": [
              "40/(9*pi**2) + 0.5"
            ],
            "text/latex": "$\\displaystyle \\frac{40}{9 \\pi^{2}} + 0.5$"
          },
          "metadata": {},
          "execution_count": 3
        }
      ]
    }
  ]
}