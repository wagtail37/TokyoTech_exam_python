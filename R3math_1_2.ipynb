{
  "nbformat": 4,
  "nbformat_minor": 0,
  "metadata": {
    "colab": {
      "provenance": []
    },
    "kernelspec": {
      "name": "python3",
      "display_name": "Python 3"
    },
    "language_info": {
      "name": "python"
    }
  },
  "cells": [
    {
      "cell_type": "markdown",
      "source": [
        "(1)x,y平面上の領域x^2+(y-b)^2<=a^2を直線y=x回りに回転してできる立体の体積を求めよ。ただし,b>2a>0とする。"
      ],
      "metadata": {
        "id": "JrNICyVZXJ8a"
      }
    },
    {
      "cell_type": "markdown",
      "source": [
        "\n",
        "x 軸周りに回転させると、回転体の形状はドーナツのようになります。このような形状の体積を求めるには、円の方程式を使用して、円盤法を適用します。"
      ],
      "metadata": {
        "id": "PUz9sNdbrhnh"
      }
    },
    {
      "cell_type": "code",
      "source": [
        "from sympy import symbols, pi, integrate, sqrt\n",
        "\n",
        "# 変数を定義\n",
        "x = symbols('x')\n",
        "a, b = symbols('a b', positive=True, real=True)\n",
        "\n",
        "# 円盤の半径を定義\n",
        "y_1= b/sqrt(2) + sqrt(a**2 - x**2)\n",
        "y_2= b/sqrt(2) - sqrt(a**2 - x**2)\n",
        "\n",
        "# 微小なスライスの体積の式を定義\n",
        "dV = pi * (y_1**2 -y_2**2)\n",
        "\n",
        "# -aからaまでの式を積分\n",
        "V = integrate(dV, (x, -a, a))\n",
        "\n",
        "V"
      ],
      "metadata": {
        "colab": {
          "base_uri": "https://localhost:8080/",
          "height": 40
        },
        "id": "a7UZY4XGrlaI",
        "outputId": "8a96a188-0d73-41e6-dc00-efbec2791b71"
      },
      "execution_count": null,
      "outputs": [
        {
          "output_type": "execute_result",
          "data": {
            "text/plain": [
              "sqrt(2)*pi**2*a**2*b"
            ],
            "text/latex": "$\\displaystyle \\sqrt{2} \\pi^{2} a^{2} b$"
          },
          "metadata": {},
          "execution_count": 3
        }
      ]
    },
    {
      "cell_type": "markdown",
      "source": [
        "微分方程式dy/dx=(x+y)^2の一般解を求めよ。u=x+yと置いてもよい。"
      ],
      "metadata": {
        "id": "93czgsacR3jp"
      }
    },
    {
      "cell_type": "code",
      "source": [
        "from sympy import symbols, Function, Eq, diff, dsolve, tan\n",
        "\n",
        "# 変数と関数を定義する\n",
        "x, C1 = symbols('x C1')\n",
        "y = Function('y')(x)\n",
        "u = x + y\n",
        "\n",
        "# 元の微分方程式 dy/dx = (x+y)^2\n",
        "dy_dx_original = u**2\n",
        "\n",
        "# u の微分方程式\n",
        "du_dx = 1 + dy_dx_original\n",
        "\n",
        "# u の微分方程式を解く\n",
        "u = Function('u')(x)\n",
        "differential_equation_for_u = Eq(diff(u, x), u**2 + 1)\n",
        "general_solution_for_u = dsolve(differential_equation_for_u)\n",
        "\n",
        "# y(x) に変換する\n",
        "y_general_solution = general_solution_for_u.rhs - x\n",
        "\n",
        "print('y=',y_general_solution)\n"
      ],
      "metadata": {
        "colab": {
          "base_uri": "https://localhost:8080/"
        },
        "id": "nOVPEyWTSP7M",
        "outputId": "5310575d-a0cc-435e-b060-9bb1396012d9"
      },
      "execution_count": null,
      "outputs": [
        {
          "output_type": "stream",
          "name": "stdout",
          "text": [
            "y= -x - tan(C1 - x)\n"
          ]
        }
      ]
    }
  ]
}