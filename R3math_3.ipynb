{
  "nbformat": 4,
  "nbformat_minor": 0,
  "metadata": {
    "colab": {
      "provenance": []
    },
    "kernelspec": {
      "name": "python3",
      "display_name": "Python 3"
    },
    "language_info": {
      "name": "python"
    }
  },
  "cells": [
    {
      "cell_type": "markdown",
      "source": [
        "(1)複素数1/(1+z)の関数のマクローリン展開を求めよ。\n"
      ],
      "metadata": {
        "id": "9mEw4UXcAJZ4"
      }
    },
    {
      "cell_type": "code",
      "execution_count": null,
      "metadata": {
        "colab": {
          "base_uri": "https://localhost:8080/",
          "height": 38
        },
        "id": "nRghQVkyAEol",
        "outputId": "b6042f81-8ed5-4019-8190-36d93af4985e"
      },
      "outputs": [
        {
          "output_type": "execute_result",
          "data": {
            "text/plain": [
              "1 - z + z**2 - z**3 + z**4 - z**5 + z**6 - z**7 + z**8 - z**9 + O(z**10)"
            ],
            "text/latex": "$\\displaystyle 1 - z + z^{2} - z^{3} + z^{4} - z^{5} + z^{6} - z^{7} + z^{8} - z^{9} + O\\left(z^{10}\\right)$"
          },
          "metadata": {},
          "execution_count": 1
        }
      ],
      "source": [
        "from sympy import symbols, diff, series\n",
        "\n",
        "z = symbols('z')\n",
        "f = 1/(1+z)\n",
        "f_series = series(f, z, 0, 10)\n",
        "f_series\n",
        "\n"
      ]
    },
    {
      "cell_type": "markdown",
      "source": [
        "\n",
        "f(z) のマクローリン展開は、f(z) のテイラー級数を z=0 で展開したもの"
      ],
      "metadata": {
        "id": "o5Ys62OkHvnM"
      }
    },
    {
      "cell_type": "markdown",
      "source": [
        "(2)複素数zの関数1/(z*(e^z-1))のz=0における留数を求めよ。"
      ],
      "metadata": {
        "id": "e_FG340PIIM5"
      }
    },
    {
      "cell_type": "code",
      "source": [
        "from sympy import symbols, exp, residue\n",
        "\n",
        "z = symbols('z')\n",
        "f = 1/(z*(exp(z) - 1))\n",
        "res = residue(f, z, 0)\n",
        "res\n"
      ],
      "metadata": {
        "colab": {
          "base_uri": "https://localhost:8080/",
          "height": 51
        },
        "id": "Hro6xhdXH1rV",
        "outputId": "a0fed752-73a3-4a29-8c1c-02947f559b78"
      },
      "execution_count": null,
      "outputs": [
        {
          "output_type": "execute_result",
          "data": {
            "text/plain": [
              "-1/2"
            ],
            "text/latex": "$\\displaystyle - \\frac{1}{2}$"
          },
          "metadata": {},
          "execution_count": 2
        }
      ]
    }
  ]
}